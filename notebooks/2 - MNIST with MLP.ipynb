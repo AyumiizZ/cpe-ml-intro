{
 "cells": [
  {
   "cell_type": "code",
   "execution_count": 7,
   "metadata": {},
   "outputs": [],
   "source": [
    "import mnist\n",
    "import numpy\n",
    "import matplotlib.pyplot as plt\n",
    "from sklearn.neural_network import MLPClassifier\n",
    "from PIL import Image"
   ]
  },
  {
   "cell_type": "code",
   "execution_count": 3,
   "metadata": {},
   "outputs": [],
   "source": [
    "train_images = mnist.train_images()\n",
    "train_labels = mnist.train_labels()"
   ]
  },
  {
   "cell_type": "code",
   "execution_count": 4,
   "metadata": {},
   "outputs": [],
   "source": [
    "test_images = mnist.test_images()\n",
    "test_labels = mnist.test_labels()"
   ]
  },
  {
   "cell_type": "code",
   "execution_count": 5,
   "metadata": {},
   "outputs": [],
   "source": [
    "train_images_flat = train_images.reshape(60000, -1)\n",
    "test_images_flat = test_images.reshape(10000, -1)"
   ]
  },
  {
   "cell_type": "code",
   "execution_count": 11,
   "metadata": {},
   "outputs": [],
   "source": [
    "mlp = MLPClassifier(hidden_layer_sizes=(100, 100), max_iter=400, alpha=1e-4,\n",
    "                    solver='sgd', verbose=10, tol=1e-4, random_state=1)"
   ]
  },
  {
   "cell_type": "code",
   "execution_count": 12,
   "metadata": {},
   "outputs": [
    {
     "name": "stdout",
     "output_type": "stream",
     "text": [
      "Iteration 1, loss = 2.78019142\n",
      "Iteration 2, loss = 2.05969770\n",
      "Iteration 3, loss = 1.82960811\n",
      "Iteration 4, loss = 1.68367209\n",
      "Iteration 5, loss = 1.46452880\n",
      "Iteration 6, loss = 1.38439245\n",
      "Iteration 7, loss = 1.33922100\n",
      "Iteration 8, loss = 1.31723523\n",
      "Iteration 9, loss = 1.29929849\n",
      "Iteration 10, loss = 1.28375184\n",
      "Iteration 11, loss = 1.27025829\n",
      "Iteration 12, loss = 1.26098041\n",
      "Iteration 13, loss = 1.24085598\n",
      "Iteration 14, loss = 1.20931301\n",
      "Iteration 15, loss = 1.15650560\n",
      "Iteration 16, loss = 1.09870707\n",
      "Iteration 17, loss = 1.01815804\n",
      "Iteration 18, loss = 0.94477043\n",
      "Iteration 19, loss = 0.90262646\n",
      "Iteration 20, loss = 0.87679066\n",
      "Iteration 21, loss = 0.85873730\n",
      "Iteration 22, loss = 0.84404978\n",
      "Iteration 23, loss = 0.83435128\n",
      "Iteration 24, loss = 0.82334881\n",
      "Iteration 25, loss = 0.81625669\n",
      "Iteration 26, loss = 0.81164930\n",
      "Iteration 27, loss = 0.80002751\n",
      "Iteration 28, loss = 0.78605743\n",
      "Iteration 29, loss = 0.76417313\n",
      "Iteration 30, loss = 0.74741170\n",
      "Iteration 31, loss = 0.73913900\n",
      "Iteration 32, loss = 0.73074941\n",
      "Iteration 33, loss = 0.72548279\n",
      "Iteration 34, loss = 0.72360174\n",
      "Iteration 35, loss = 0.71971999\n",
      "Iteration 36, loss = 0.71533162\n",
      "Iteration 37, loss = 0.71156528\n",
      "Iteration 38, loss = 0.70880967\n",
      "Iteration 39, loss = 0.70571463\n",
      "Iteration 40, loss = 0.69904597\n",
      "Iteration 41, loss = 0.67773086\n",
      "Iteration 42, loss = 0.66829325\n",
      "Iteration 43, loss = 0.66165656\n",
      "Iteration 44, loss = 0.65504922\n",
      "Iteration 45, loss = 0.64574355\n",
      "Iteration 46, loss = 0.64450263\n",
      "Iteration 47, loss = 0.63829935\n",
      "Iteration 48, loss = 0.63606609\n",
      "Iteration 49, loss = 0.62390384\n",
      "Iteration 50, loss = 0.61221298\n",
      "Iteration 51, loss = 0.57620311\n",
      "Iteration 52, loss = 0.52511762\n",
      "Iteration 53, loss = 0.49965319\n",
      "Iteration 54, loss = 0.48705798\n",
      "Iteration 55, loss = 0.48716647\n",
      "Iteration 56, loss = 0.47614508\n",
      "Iteration 57, loss = 0.46517604\n",
      "Iteration 58, loss = 0.46522496\n",
      "Iteration 59, loss = 0.45735387\n",
      "Iteration 60, loss = 0.45206402\n",
      "Iteration 61, loss = 0.45236777\n",
      "Iteration 62, loss = 0.44612542\n",
      "Iteration 63, loss = 0.44169011\n",
      "Iteration 64, loss = 0.43910301\n",
      "Iteration 65, loss = 0.43859930\n",
      "Iteration 66, loss = 0.43589500\n",
      "Iteration 67, loss = 0.43501735\n",
      "Iteration 68, loss = 0.43391355\n",
      "Iteration 69, loss = 0.43567495\n",
      "Iteration 70, loss = 0.43068216\n",
      "Iteration 71, loss = 0.42879275\n",
      "Iteration 72, loss = 0.42767115\n",
      "Iteration 73, loss = 0.42784766\n",
      "Iteration 74, loss = 0.42592387\n",
      "Iteration 75, loss = 0.42930090\n",
      "Iteration 76, loss = 0.42103869\n",
      "Iteration 77, loss = 0.42014808\n",
      "Iteration 78, loss = 0.42465765\n",
      "Iteration 79, loss = 0.41887872\n",
      "Iteration 80, loss = 0.42134994\n",
      "Iteration 81, loss = 0.41564265\n",
      "Iteration 82, loss = 0.41969772\n",
      "Iteration 83, loss = 0.41672895\n",
      "Iteration 84, loss = 0.41541908\n",
      "Iteration 85, loss = 0.41540757\n",
      "Iteration 86, loss = 0.41659574\n",
      "Iteration 87, loss = 0.41291191\n",
      "Iteration 88, loss = 0.41481074\n",
      "Iteration 89, loss = 0.41407849\n",
      "Iteration 90, loss = 0.41236062\n",
      "Iteration 91, loss = 0.41447952\n",
      "Iteration 92, loss = 0.41197819\n",
      "Iteration 93, loss = 0.41022242\n",
      "Iteration 94, loss = 0.41161900\n",
      "Iteration 95, loss = 0.40967588\n",
      "Iteration 96, loss = 0.41054667\n",
      "Iteration 97, loss = 0.41250795\n",
      "Iteration 98, loss = 0.40965868\n",
      "Training loss did not improve more than tol=0.000100 for two consecutive epochs. Stopping.\n"
     ]
    },
    {
     "data": {
      "text/plain": [
       "MLPClassifier(activation='relu', alpha=0.0001, batch_size='auto', beta_1=0.9,\n",
       "       beta_2=0.999, early_stopping=False, epsilon=1e-08,\n",
       "       hidden_layer_sizes=(100, 100), learning_rate='constant',\n",
       "       learning_rate_init=0.001, max_iter=400, momentum=0.9,\n",
       "       nesterovs_momentum=True, power_t=0.5, random_state=1, shuffle=True,\n",
       "       solver='sgd', tol=0.0001, validation_fraction=0.1, verbose=10,\n",
       "       warm_start=False)"
      ]
     },
     "execution_count": 12,
     "metadata": {},
     "output_type": "execute_result"
    }
   ],
   "source": [
    "mlp.fit(train_images_flat, train_labels)"
   ]
  },
  {
   "cell_type": "code",
   "execution_count": 15,
   "metadata": {},
   "outputs": [
    {
     "data": {
      "text/plain": [
       "array([7], dtype=uint8)"
      ]
     },
     "execution_count": 15,
     "metadata": {},
     "output_type": "execute_result"
    }
   ],
   "source": [
    "n = 0\n",
    "mlp.predict([test_images_flat[n]])"
   ]
  },
  {
   "cell_type": "code",
   "execution_count": 17,
   "metadata": {},
   "outputs": [
    {
     "data": {
      "text/plain": [
       "<matplotlib.image.AxesImage at 0x7fa27387e240>"
      ]
     },
     "execution_count": 17,
     "metadata": {},
     "output_type": "execute_result"
    },
    {
     "data": {
      "image/png": "[encoded data removed]",
      "text/plain": [
       "<Figure size 432x288 with 1 Axes>"
      ]
     },
     "metadata": {},
     "output_type": "display_data"
    }
   ],
   "source": [
    "plt.imshow(test_images[n])"
   ]
  },
  {
   "cell_type": "code",
   "execution_count": 40,
   "metadata": {},
   "outputs": [
    {
     "data": {
      "text/plain": [
       "array([0], dtype=uint8)"
      ]
     },
     "execution_count": 40,
     "metadata": {},
     "output_type": "execute_result"
    }
   ],
   "source": [
    "image = numpy.array(Image.open(\"mnist_test/0.bmp\"))[:, :, 0].ravel()\n",
    "mlp.predict([image])"
   ]
  },
  {
   "cell_type": "code",
   "execution_count": 41,
   "metadata": {},
   "outputs": [
    {
     "data": {
      "text/plain": [
       "0.8768"
      ]
     },
     "execution_count": 41,
     "metadata": {},
     "output_type": "execute_result"
    }
   ],
   "source": [
    "mlp.score(test_images_flat, test_labels)"
   ]
  }
 ],
 "metadata": {
  "kernelspec": {
   "display_name": "Python 3",
   "language": "python",
   "name": "python3"
  },
  "language_info": {
   "codemirror_mode": {
    "name": "ipython",
    "version": 3
   },
   "file_extension": ".py",
   "mimetype": "text/x-python",
   "name": "python",
   "nbconvert_exporter": "python",
   "pygments_lexer": "ipython3",
   "version": "3.6.5"
  }
 },
 "nbformat": 4,
 "nbformat_minor": 2
}

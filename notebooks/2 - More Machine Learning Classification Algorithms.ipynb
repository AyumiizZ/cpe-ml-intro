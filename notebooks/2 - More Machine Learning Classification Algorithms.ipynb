{
 "cells": [
  {
   "cell_type": "markdown",
   "metadata": {},
   "source": [
    "# More Machine Learning Classification Algorithms\n",
    "\n",
    "This notebook demonstrates more Machine Learning Classification Algorithms, along with their basic concepts on how they performs."
   ]
  },
  {
   "cell_type": "code",
   "execution_count": null,
   "metadata": {},
   "outputs": [],
   "source": [
    "from __future__ import print_function\n",
    "from ipywidgets import interact, interactive, fixed, interact_manual\n",
    "import ipywidgets as widgets\n",
    "from mlxtend.plotting import plot_decision_regions"
   ]
  },
  {
   "cell_type": "markdown",
   "metadata": {},
   "source": [
    "## Generating a random data\n",
    "\n",
    "For the purpose of visualisation, we create a data with labels using `sklearn`'s `make_blobs` function."
   ]
  },
  {
   "cell_type": "code",
   "execution_count": null,
   "metadata": {},
   "outputs": [],
   "source": [
    "import sklearn.datasets\n",
    "import matplotlib.pyplot as plt\n",
    "\n",
    "def make_dataset(shape):\n",
    "    global X, y, X_train, X_test, y_train, y_test\n",
    "    if shape == 'blobs':\n",
    "        X, y = sklearn.datasets.make_blobs(n_samples=150, centers=3, n_features=2)\n",
    "    elif shape == 'moon':\n",
    "        X, y = sklearn.datasets.make_moons(n_samples=100, noise=0.1)\n",
    "    else:\n",
    "        X, y = sklearn.datasets.make_circles(n_samples=100, noise=0.1, factor=0.2)\n",
    "    X_train, X_test, y_train, y_test = sklearn.model_selection.train_test_split(X, y, test_size=0.25)\n",
    "    plt.scatter(X_train[:, 0], X_train[:, 1], c=y_train, cmap='tab20')\n",
    "    plt.scatter(X_test[:, 0], X_test[:, 1], c=y_test, linewidths=1, edgecolors=\"000000\", cmap='tab20')\n",
    "    plt.show()\n",
    "    return X_train, X_test, y_train, y_test\n",
    "\n",
    "interactive_data = interactive(make_dataset,\n",
    "              shape = ['blobs', 'moon', 'circles'])\n",
    "display(interactive_data)"
   ]
  },
  {
   "cell_type": "markdown",
   "metadata": {},
   "source": [
    "## Naive Bayes"
   ]
  },
  {
   "cell_type": "code",
   "execution_count": null,
   "metadata": {},
   "outputs": [],
   "source": [
    "from sklearn.naive_bayes import GaussianNB\n",
    "gaussian_clf = GaussianNB()\n",
    "gaussian_clf.fit(X_train, y_train)"
   ]
  },
  {
   "cell_type": "code",
   "execution_count": null,
   "metadata": {},
   "outputs": [],
   "source": [
    "plot_decision_regions(X, y, clf=gaussian_clf, legend=2)\n",
    "plt.show()"
   ]
  },
  {
   "cell_type": "code",
   "execution_count": null,
   "metadata": {},
   "outputs": [],
   "source": [
    "gaussian_clf.score(X_test, y_test)"
   ]
  },
  {
   "cell_type": "markdown",
   "metadata": {},
   "source": [
    "## SVM"
   ]
  },
  {
   "cell_type": "code",
   "execution_count": null,
   "metadata": {},
   "outputs": [],
   "source": [
    "from sklearn import svm\n",
    "\n",
    "def generate_svm(c, gamma, kernel):\n",
    "    svm_clf = svm.SVC(C=10**c, gamma=10**gamma, kernel=kernel)\n",
    "    svm_clf.fit(X_train, y_train)\n",
    "    plot_decision_regions(X, y, clf=svm_clf, legend=2)\n",
    "    plt.show()\n",
    "    print(svm_clf.score(X_test, y_test))\n",
    "    \n",
    "interactive_svm = interactive(generate_svm,\n",
    "              c = (-5, 5, 1),\n",
    "              gamma = (-5, 5, 1),\n",
    "              kernel = ['linear', 'rbf', 'poly'])\n",
    "display(interactive_svm)"
   ]
  },
  {
   "cell_type": "markdown",
   "metadata": {},
   "source": [
    "## Decision Tree"
   ]
  },
  {
   "cell_type": "code",
   "execution_count": null,
   "metadata": {},
   "outputs": [],
   "source": [
    "from sklearn import tree\n",
    "\n",
    "def generate_tree(max_depth, min_samples_split, min_samples_leaf):\n",
    "    tree_clf = tree.DecisionTreeClassifier(\n",
    "    max_depth=max_depth,\n",
    "    min_samples_split=min_samples_split,\n",
    "    min_samples_leaf=min_samples_leaf)\n",
    "    tree_clf.fit(X_train, y_train)\n",
    "    plot_decision_regions(X, y, clf=tree_clf, legend=2)\n",
    "    plt.show()\n",
    "    print(tree_clf.score(X_test, y_test))\n",
    "    \n",
    "interactive_tree = interactive(generate_tree,\n",
    "              max_depth = (1, 10, 1),\n",
    "              min_samples_split = (2, 10, 1),\n",
    "              min_samples_leaf = (1, 10, 1)\n",
    "                             )\n",
    "display(interactive_tree)"
   ]
  }
 ],
 "metadata": {
  "kernelspec": {
   "display_name": "Python 3",
   "language": "python",
   "name": "python3"
  },
  "language_info": {
   "codemirror_mode": {
    "name": "ipython",
    "version": 3
   },
   "file_extension": ".py",
   "mimetype": "text/x-python",
   "name": "python",
   "nbconvert_exporter": "python",
   "pygments_lexer": "ipython3",
   "version": "3.6.5"
  }
 },
 "nbformat": 4,
 "nbformat_minor": 2
}

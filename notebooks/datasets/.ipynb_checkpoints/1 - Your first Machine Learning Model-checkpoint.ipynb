{
 "cells": [
  {
   "cell_type": "markdown",
   "metadata": {},
   "source": [
    "# Your first Machine Learning Model\n",
    "\n",
    "As we've mentioned in the slide, we're going to start making your first Machine Learning model *from scratch*!\n",
    "\n",
    "For revision, Machine Learning model consists of two parts*: __data__ and __method (algorithm)__. We'll start with the data part.\n"
   ]
  },
  {
   "cell_type": "markdown",
   "metadata": {},
   "source": [
    "## Introducing the Iris dataset\n",
    "\n",
    "![/imgs/iris_petal_sepal.png]()"
   ]
  }
 ],
 "metadata": {
  "kernelspec": {
   "display_name": "Python 3",
   "language": "python",
   "name": "python3"
  },
  "language_info": {
   "codemirror_mode": {
    "name": "ipython",
    "version": 3
   },
   "file_extension": ".py",
   "mimetype": "text/x-python",
   "name": "python",
   "nbconvert_exporter": "python",
   "pygments_lexer": "ipython3",
   "version": "3.6.5"
  }
 },
 "nbformat": 4,
 "nbformat_minor": 2
}
